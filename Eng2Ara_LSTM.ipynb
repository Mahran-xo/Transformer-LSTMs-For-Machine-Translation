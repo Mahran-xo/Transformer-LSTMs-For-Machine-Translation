{
  "cells": [
    {
      "cell_type": "code",
      "execution_count": null,
      "metadata": {
        "id": "6p8uAj2rYiHk"
      },
      "outputs": [],
      "source": [
        "# from google.colab import drive\n",
        "# drive.mount('/content/drive')"
      ]
    },
    {
      "cell_type": "code",
      "execution_count": null,
      "metadata": {
        "id": "Yyz7uPoKWOTR"
      },
      "outputs": [],
      "source": [
        "# !pip install nltk"
      ]
    },
    {
      "cell_type": "code",
      "execution_count": null,
      "metadata": {
        "_cell_guid": "b1076dfc-b9ad-4769-8c92-a6c4dae69d19",
        "_uuid": "8f2839f25d086af736a60e9eeb907d3b93b6e0e5",
        "colab": {
          "base_uri": "https://localhost:8080/"
        },
        "id": "jSxrqCwh3B6d",
        "outputId": "c5349f79-528e-41cf-c5b1-9dde785e4c34"
      },
      "outputs": [
        {
          "name": "stdout",
          "output_type": "stream",
          "text": [
            "['.ipynb_checkpoints', 'ara_eng.txt', 'Eng2Ara_LSTM.ipynb', 'Eng2Ara_Transformer.ipynb', 'Group3.docx', 'X_test.pkl', 'X_train.pkl']\n"
          ]
        },
        {
          "name": "stderr",
          "output_type": "stream",
          "text": [
            "[nltk_data] Downloading package punkt to\n",
            "[nltk_data]     C:\\Users\\Mahran\\AppData\\Roaming\\nltk_data...\n",
            "[nltk_data]   Package punkt is already up-to-date!\n"
          ]
        }
      ],
      "source": [
        "import numpy as np # linear algebra\n",
        "import pandas as pd # data processing, CSV file I/O (e.g. pd.read_csv)\n",
        "import os\n",
        "import nltk\n",
        "import string\n",
        "from string import digits\n",
        "import re\n",
        "from sklearn.utils import shuffle\n",
        "from sklearn.model_selection import train_test_split\n",
        "from tensorflow.keras.models import load_model\n",
        "import tensorflow as tf\n",
        "from nltk.translate.bleu_score import sentence_bleu\n",
        "from keras.layers import Input, LSTM, Embedding, Dense\n",
        "from keras.callbacks import EarlyStopping, ModelCheckpoint\n",
        "from nltk.tokenize import word_tokenize\n",
        "from nltk.translate.bleu_score import SmoothingFunction\n",
        "from keras.models import Model\n",
        "nltk.download('punkt')\n",
        "print(os.listdir(\".\"))"
      ]
    },
    {
      "cell_type": "code",
      "execution_count": null,
      "metadata": {
        "id": "ejzWP4Hb3B6h"
      },
      "outputs": [],
      "source": [
        "batch_size = 64\n",
        "epochs = 100"
      ]
    },
    {
      "cell_type": "code",
      "execution_count": null,
      "metadata": {
        "id": "m7mnGnXE3B6h"
      },
      "outputs": [],
      "source": [
        "file_path = \"ara_eng.txt\" # modify the file name and extension if needed"
      ]
    },
    {
      "cell_type": "code",
      "execution_count": null,
      "metadata": {
        "id": "eyrkIy3g3B6h"
      },
      "outputs": [],
      "source": [
        "with open(file_path, 'r', encoding='utf-8') as f:\n",
        "    lines = f.readlines()\n"
      ]
    },
    {
      "cell_type": "code",
      "execution_count": null,
      "metadata": {
        "colab": {
          "base_uri": "https://localhost:8080/",
          "height": 206
        },
        "id": "MWN_LV333B6i",
        "outputId": "01eb0505-9f03-4dab-c13a-ef1378ba2767"
      },
      "outputs": [
        {
          "data": {
            "text/html": [
              "<div>\n",
              "<style scoped>\n",
              "    .dataframe tbody tr th:only-of-type {\n",
              "        vertical-align: middle;\n",
              "    }\n",
              "\n",
              "    .dataframe tbody tr th {\n",
              "        vertical-align: top;\n",
              "    }\n",
              "\n",
              "    .dataframe thead th {\n",
              "        text-align: right;\n",
              "    }\n",
              "</style>\n",
              "<table border=\"1\" class=\"dataframe\">\n",
              "  <thead>\n",
              "    <tr style=\"text-align: right;\">\n",
              "      <th></th>\n",
              "      <th>English_sentence</th>\n",
              "      <th>Arabic_sentence</th>\n",
              "    </tr>\n",
              "  </thead>\n",
              "  <tbody>\n",
              "    <tr>\n",
              "      <th>0</th>\n",
              "      <td>Hi.</td>\n",
              "      <td>مرحبًا.</td>\n",
              "    </tr>\n",
              "    <tr>\n",
              "      <th>1</th>\n",
              "      <td>Run!</td>\n",
              "      <td>اركض!</td>\n",
              "    </tr>\n",
              "    <tr>\n",
              "      <th>2</th>\n",
              "      <td>Help!</td>\n",
              "      <td>النجدة!</td>\n",
              "    </tr>\n",
              "    <tr>\n",
              "      <th>3</th>\n",
              "      <td>Jump!</td>\n",
              "      <td>اقفز!</td>\n",
              "    </tr>\n",
              "    <tr>\n",
              "      <th>4</th>\n",
              "      <td>Stop!</td>\n",
              "      <td>قف!</td>\n",
              "    </tr>\n",
              "  </tbody>\n",
              "</table>\n",
              "</div>"
            ],
            "text/plain": [
              "  English_sentence Arabic_sentence\n",
              "0              Hi.         مرحبًا.\n",
              "1             Run!           اركض!\n",
              "2            Help!         النجدة!\n",
              "3            Jump!           اقفز!\n",
              "4            Stop!             قف!"
            ]
          },
          "execution_count": 7,
          "metadata": {},
          "output_type": "execute_result"
        }
      ],
      "source": [
        "# Load the text file into a Pandas DataFrame\n",
        "lines = pd.read_table(file_path, header=None, names=['English_sentence', 'Arabic_sentence'])\n",
        "lines.head()"
      ]
    },
    {
      "cell_type": "code",
      "execution_count": null,
      "metadata": {
        "colab": {
          "base_uri": "https://localhost:8080/"
        },
        "id": "tdjthx8U3B6i",
        "outputId": "333b3186-e687-40b6-9062-1181550dfd85"
      },
      "outputs": [
        {
          "data": {
            "text/plain": [
              "24638"
            ]
          },
          "execution_count": 8,
          "metadata": {},
          "output_type": "execute_result"
        }
      ],
      "source": [
        "lines['English_sentence'].value_counts().sum()"
      ]
    },
    {
      "cell_type": "code",
      "execution_count": null,
      "metadata": {
        "id": "xQNg2VeI3B6l"
      },
      "outputs": [],
      "source": [
        "# Lowercase all characters\n",
        "lines['English_sentence']=lines['English_sentence'].apply(lambda x: x.lower())\n",
        "lines['Arabic_sentence']=lines['Arabic_sentence'].apply(lambda x: x.lower())"
      ]
    },
    {
      "cell_type": "code",
      "execution_count": null,
      "metadata": {
        "colab": {
          "base_uri": "https://localhost:8080/",
          "height": 206
        },
        "id": "IJAVguKQ3B6l",
        "outputId": "46e4d37b-bfce-4b87-c5a0-563767ec5361"
      },
      "outputs": [
        {
          "data": {
            "text/html": [
              "<div>\n",
              "<style scoped>\n",
              "    .dataframe tbody tr th:only-of-type {\n",
              "        vertical-align: middle;\n",
              "    }\n",
              "\n",
              "    .dataframe tbody tr th {\n",
              "        vertical-align: top;\n",
              "    }\n",
              "\n",
              "    .dataframe thead th {\n",
              "        text-align: right;\n",
              "    }\n",
              "</style>\n",
              "<table border=\"1\" class=\"dataframe\">\n",
              "  <thead>\n",
              "    <tr style=\"text-align: right;\">\n",
              "      <th></th>\n",
              "      <th>English_sentence</th>\n",
              "      <th>Arabic_sentence</th>\n",
              "    </tr>\n",
              "  </thead>\n",
              "  <tbody>\n",
              "    <tr>\n",
              "      <th>0</th>\n",
              "      <td>hi.</td>\n",
              "      <td>مرحبًا.</td>\n",
              "    </tr>\n",
              "    <tr>\n",
              "      <th>1</th>\n",
              "      <td>run!</td>\n",
              "      <td>اركض!</td>\n",
              "    </tr>\n",
              "    <tr>\n",
              "      <th>2</th>\n",
              "      <td>help!</td>\n",
              "      <td>النجدة!</td>\n",
              "    </tr>\n",
              "    <tr>\n",
              "      <th>3</th>\n",
              "      <td>jump!</td>\n",
              "      <td>اقفز!</td>\n",
              "    </tr>\n",
              "    <tr>\n",
              "      <th>4</th>\n",
              "      <td>stop!</td>\n",
              "      <td>قف!</td>\n",
              "    </tr>\n",
              "  </tbody>\n",
              "</table>\n",
              "</div>"
            ],
            "text/plain": [
              "  English_sentence Arabic_sentence\n",
              "0              hi.         مرحبًا.\n",
              "1             run!           اركض!\n",
              "2            help!         النجدة!\n",
              "3            jump!           اقفز!\n",
              "4            stop!             قف!"
            ]
          },
          "execution_count": 10,
          "metadata": {},
          "output_type": "execute_result"
        }
      ],
      "source": [
        "lines.head()"
      ]
    },
    {
      "cell_type": "code",
      "execution_count": null,
      "metadata": {
        "id": "aO0yt8N63B6l"
      },
      "outputs": [],
      "source": [
        "# Remove quotes\n",
        "lines['English_sentence']=lines['English_sentence'].apply(lambda x: re.sub(\"'\", '', x))\n",
        "lines['Arabic_sentence']=lines['Arabic_sentence'].apply(lambda x: re.sub(\"'\", '', x))"
      ]
    },
    {
      "cell_type": "code",
      "execution_count": null,
      "metadata": {
        "id": "WKEjfnP23B6m"
      },
      "outputs": [],
      "source": [
        "exclude = set(string.punctuation) # Set of all special characters\n",
        "# Remove all the special characters\n",
        "lines['English_sentence']=lines['English_sentence'].apply(lambda x: ''.join(ch for ch in x if ch not in exclude))\n",
        "lines['Arabic_sentence']=lines['Arabic_sentence'].apply(lambda x: ''.join(ch for ch in x if ch not in exclude))"
      ]
    },
    {
      "cell_type": "code",
      "execution_count": null,
      "metadata": {
        "colab": {
          "base_uri": "https://localhost:8080/",
          "height": 206
        },
        "id": "MT4B3h0n3B6m",
        "outputId": "59f74709-c531-447d-ffb8-c4cae12d2c08"
      },
      "outputs": [
        {
          "data": {
            "text/html": [
              "<div>\n",
              "<style scoped>\n",
              "    .dataframe tbody tr th:only-of-type {\n",
              "        vertical-align: middle;\n",
              "    }\n",
              "\n",
              "    .dataframe tbody tr th {\n",
              "        vertical-align: top;\n",
              "    }\n",
              "\n",
              "    .dataframe thead th {\n",
              "        text-align: right;\n",
              "    }\n",
              "</style>\n",
              "<table border=\"1\" class=\"dataframe\">\n",
              "  <thead>\n",
              "    <tr style=\"text-align: right;\">\n",
              "      <th></th>\n",
              "      <th>English_sentence</th>\n",
              "      <th>Arabic_sentence</th>\n",
              "    </tr>\n",
              "  </thead>\n",
              "  <tbody>\n",
              "    <tr>\n",
              "      <th>0</th>\n",
              "      <td>hi</td>\n",
              "      <td>مرحبًا</td>\n",
              "    </tr>\n",
              "    <tr>\n",
              "      <th>1</th>\n",
              "      <td>run</td>\n",
              "      <td>اركض</td>\n",
              "    </tr>\n",
              "    <tr>\n",
              "      <th>2</th>\n",
              "      <td>help</td>\n",
              "      <td>النجدة</td>\n",
              "    </tr>\n",
              "    <tr>\n",
              "      <th>3</th>\n",
              "      <td>jump</td>\n",
              "      <td>اقفز</td>\n",
              "    </tr>\n",
              "    <tr>\n",
              "      <th>4</th>\n",
              "      <td>stop</td>\n",
              "      <td>قف</td>\n",
              "    </tr>\n",
              "  </tbody>\n",
              "</table>\n",
              "</div>"
            ],
            "text/plain": [
              "  English_sentence Arabic_sentence\n",
              "0               hi          مرحبًا\n",
              "1              run            اركض\n",
              "2             help          النجدة\n",
              "3             jump            اقفز\n",
              "4             stop              قف"
            ]
          },
          "execution_count": 13,
          "metadata": {},
          "output_type": "execute_result"
        }
      ],
      "source": [
        "lines.head()"
      ]
    },
    {
      "cell_type": "code",
      "execution_count": null,
      "metadata": {
        "id": "PGeD9nPk3B6m"
      },
      "outputs": [],
      "source": [
        "# Remove all numbers from text\n",
        "remove_digits = str.maketrans('', '', digits)\n",
        "lines['English_sentence']=lines['English_sentence'].apply(lambda x: x.translate(remove_digits))\n",
        "lines['Arabic_sentence'] = lines['Arabic_sentence'].apply(lambda x: re.sub(\"[٠١٢٣٤٥٦٧٨٩]\", \"\", x))\n",
        "# Remove extra spaces\n",
        "lines['English_sentence']=lines['English_sentence'].apply(lambda x: x.strip())\n",
        "lines['Arabic_sentence']=lines['Arabic_sentence'].apply(lambda x: x.strip())\n",
        "lines['English_sentence']=lines['English_sentence'].apply(lambda x: re.sub(\" +\", \" \", x))\n",
        "lines['Arabic_sentence']=lines['Arabic_sentence'].apply(lambda x: re.sub(\" +\", \" \", x))\n"
      ]
    },
    {
      "cell_type": "code",
      "execution_count": null,
      "metadata": {
        "id": "yl2FBypj3B6n"
      },
      "outputs": [],
      "source": [
        "# Add start and end tokens to target sequences\n",
        "lines['Arabic_sentence'] = lines['Arabic_sentence'].apply(lambda x : 'START_ '+ x + ' _END')"
      ]
    },
    {
      "cell_type": "code",
      "execution_count": null,
      "metadata": {
        "colab": {
          "base_uri": "https://localhost:8080/",
          "height": 206
        },
        "id": "6KeJG4Sn3B6n",
        "outputId": "61b4a715-8562-4ccd-ce45-12207c68869a"
      },
      "outputs": [
        {
          "data": {
            "text/html": [
              "<div>\n",
              "<style scoped>\n",
              "    .dataframe tbody tr th:only-of-type {\n",
              "        vertical-align: middle;\n",
              "    }\n",
              "\n",
              "    .dataframe tbody tr th {\n",
              "        vertical-align: top;\n",
              "    }\n",
              "\n",
              "    .dataframe thead th {\n",
              "        text-align: right;\n",
              "    }\n",
              "</style>\n",
              "<table border=\"1\" class=\"dataframe\">\n",
              "  <thead>\n",
              "    <tr style=\"text-align: right;\">\n",
              "      <th></th>\n",
              "      <th>English_sentence</th>\n",
              "      <th>Arabic_sentence</th>\n",
              "    </tr>\n",
              "  </thead>\n",
              "  <tbody>\n",
              "    <tr>\n",
              "      <th>0</th>\n",
              "      <td>hi</td>\n",
              "      <td>START_ مرحبًا _END</td>\n",
              "    </tr>\n",
              "    <tr>\n",
              "      <th>1</th>\n",
              "      <td>run</td>\n",
              "      <td>START_ اركض _END</td>\n",
              "    </tr>\n",
              "    <tr>\n",
              "      <th>2</th>\n",
              "      <td>help</td>\n",
              "      <td>START_ النجدة _END</td>\n",
              "    </tr>\n",
              "    <tr>\n",
              "      <th>3</th>\n",
              "      <td>jump</td>\n",
              "      <td>START_ اقفز _END</td>\n",
              "    </tr>\n",
              "    <tr>\n",
              "      <th>4</th>\n",
              "      <td>stop</td>\n",
              "      <td>START_ قف _END</td>\n",
              "    </tr>\n",
              "  </tbody>\n",
              "</table>\n",
              "</div>"
            ],
            "text/plain": [
              "  English_sentence     Arabic_sentence\n",
              "0               hi  START_ مرحبًا _END\n",
              "1              run    START_ اركض _END\n",
              "2             help  START_ النجدة _END\n",
              "3             jump    START_ اقفز _END\n",
              "4             stop      START_ قف _END"
            ]
          },
          "execution_count": 16,
          "metadata": {},
          "output_type": "execute_result"
        }
      ],
      "source": [
        "lines.head()"
      ]
    },
    {
      "cell_type": "code",
      "execution_count": null,
      "metadata": {
        "id": "0nYHksHE3B6n"
      },
      "outputs": [],
      "source": [
        "### Get English and arabicVocabulary\n",
        "all_english_words=set()\n",
        "for eng in lines['English_sentence']:\n",
        "    for word in eng.split():\n",
        "        if word not in all_english_words:\n",
        "            all_english_words.add(word)\n",
        "\n",
        "all_arabic_words=set()\n",
        "for ara in lines['Arabic_sentence']:\n",
        "    for word in ara.split():\n",
        "        if word not in all_arabic_words:\n",
        "            all_arabic_words.add(word)"
      ]
    },
    {
      "cell_type": "code",
      "execution_count": null,
      "metadata": {
        "colab": {
          "base_uri": "https://localhost:8080/"
        },
        "id": "HoMFHdvC3B6n",
        "outputId": "0debe184-970e-4468-f1ed-7689020339d8"
      },
      "outputs": [
        {
          "data": {
            "text/plain": [
              "25996"
            ]
          },
          "execution_count": 18,
          "metadata": {},
          "output_type": "execute_result"
        }
      ],
      "source": [
        "len(all_english_words)"
      ]
    },
    {
      "cell_type": "code",
      "execution_count": null,
      "metadata": {
        "colab": {
          "base_uri": "https://localhost:8080/"
        },
        "id": "EMFaSI9X3B6o",
        "outputId": "f886b5bd-2eb2-4e94-80e6-f0f8817588a9"
      },
      "outputs": [
        {
          "data": {
            "text/plain": [
              "57726"
            ]
          },
          "execution_count": 19,
          "metadata": {},
          "output_type": "execute_result"
        }
      ],
      "source": [
        "len(all_arabic_words)"
      ]
    },
    {
      "cell_type": "code",
      "execution_count": null,
      "metadata": {
        "id": "K8Eb9q3b3B6o"
      },
      "outputs": [],
      "source": [
        "lines['length_eng_sentence']=lines['English_sentence'].apply(lambda x:len(x.split(\" \")))\n",
        "lines['length_ara_sentence']=lines['Arabic_sentence'].apply(lambda x:len(x.split(\" \")))"
      ]
    },
    {
      "cell_type": "code",
      "execution_count": null,
      "metadata": {
        "colab": {
          "base_uri": "https://localhost:8080/",
          "height": 206
        },
        "id": "zJu55o-c3B6o",
        "outputId": "ec41fb92-801b-44e4-bf97-b2b674a65152"
      },
      "outputs": [
        {
          "data": {
            "text/html": [
              "<div>\n",
              "<style scoped>\n",
              "    .dataframe tbody tr th:only-of-type {\n",
              "        vertical-align: middle;\n",
              "    }\n",
              "\n",
              "    .dataframe tbody tr th {\n",
              "        vertical-align: top;\n",
              "    }\n",
              "\n",
              "    .dataframe thead th {\n",
              "        text-align: right;\n",
              "    }\n",
              "</style>\n",
              "<table border=\"1\" class=\"dataframe\">\n",
              "  <thead>\n",
              "    <tr style=\"text-align: right;\">\n",
              "      <th></th>\n",
              "      <th>English_sentence</th>\n",
              "      <th>Arabic_sentence</th>\n",
              "      <th>length_eng_sentence</th>\n",
              "      <th>length_ara_sentence</th>\n",
              "    </tr>\n",
              "  </thead>\n",
              "  <tbody>\n",
              "    <tr>\n",
              "      <th>0</th>\n",
              "      <td>hi</td>\n",
              "      <td>START_ مرحبًا _END</td>\n",
              "      <td>1</td>\n",
              "      <td>3</td>\n",
              "    </tr>\n",
              "    <tr>\n",
              "      <th>1</th>\n",
              "      <td>run</td>\n",
              "      <td>START_ اركض _END</td>\n",
              "      <td>1</td>\n",
              "      <td>3</td>\n",
              "    </tr>\n",
              "    <tr>\n",
              "      <th>2</th>\n",
              "      <td>help</td>\n",
              "      <td>START_ النجدة _END</td>\n",
              "      <td>1</td>\n",
              "      <td>3</td>\n",
              "    </tr>\n",
              "    <tr>\n",
              "      <th>3</th>\n",
              "      <td>jump</td>\n",
              "      <td>START_ اقفز _END</td>\n",
              "      <td>1</td>\n",
              "      <td>3</td>\n",
              "    </tr>\n",
              "    <tr>\n",
              "      <th>4</th>\n",
              "      <td>stop</td>\n",
              "      <td>START_ قف _END</td>\n",
              "      <td>1</td>\n",
              "      <td>3</td>\n",
              "    </tr>\n",
              "  </tbody>\n",
              "</table>\n",
              "</div>"
            ],
            "text/plain": [
              "  English_sentence     Arabic_sentence  length_eng_sentence   \n",
              "0               hi  START_ مرحبًا _END                    1  \\\n",
              "1              run    START_ اركض _END                    1   \n",
              "2             help  START_ النجدة _END                    1   \n",
              "3             jump    START_ اقفز _END                    1   \n",
              "4             stop      START_ قف _END                    1   \n",
              "\n",
              "   length_ara_sentence  \n",
              "0                    3  \n",
              "1                    3  \n",
              "2                    3  \n",
              "3                    3  \n",
              "4                    3  "
            ]
          },
          "execution_count": 21,
          "metadata": {},
          "output_type": "execute_result"
        }
      ],
      "source": [
        "lines.head()"
      ]
    },
    {
      "cell_type": "code",
      "execution_count": null,
      "metadata": {
        "colab": {
          "base_uri": "https://localhost:8080/"
        },
        "id": "BaXT4JV33B6o",
        "outputId": "d5094f87-b69e-46a5-ac6e-7c2b4051d983"
      },
      "outputs": [
        {
          "data": {
            "text/plain": [
              "(2111, 4)"
            ]
          },
          "execution_count": 22,
          "metadata": {},
          "output_type": "execute_result"
        }
      ],
      "source": [
        "lines[lines['length_eng_sentence']>50].shape"
      ]
    },
    {
      "cell_type": "code",
      "execution_count": null,
      "metadata": {
        "id": "T5VeyHi23B6o"
      },
      "outputs": [],
      "source": [
        "lines=lines[lines['length_eng_sentence']<=20]\n",
        "lines=lines[lines['length_ara_sentence']<=20]"
      ]
    },
    {
      "cell_type": "code",
      "execution_count": null,
      "metadata": {
        "colab": {
          "base_uri": "https://localhost:8080/"
        },
        "id": "vW5E03o33B6o",
        "outputId": "17feefce-5265-4736-bb3a-0eca0cf97660"
      },
      "outputs": [
        {
          "data": {
            "text/plain": [
              "(17561, 4)"
            ]
          },
          "execution_count": 24,
          "metadata": {},
          "output_type": "execute_result"
        }
      ],
      "source": [
        "lines.shape"
      ]
    },
    {
      "cell_type": "markdown",
      "metadata": {
        "id": "scHbqSe95gAF"
      },
      "source": [
        "Perform a sanity check"
      ]
    },
    {
      "cell_type": "code",
      "execution_count": null,
      "metadata": {
        "colab": {
          "base_uri": "https://localhost:8080/"
        },
        "id": "9EFtrItV3B6o",
        "outputId": "c6b65437-7e56-4b9d-c840-2294ba0fdc7c"
      },
      "outputs": [
        {
          "name": "stdout",
          "output_type": "stream",
          "text": [
            "maximum length of Arabic Sentence  20\n",
            "maximum length of English Sentence  20\n"
          ]
        }
      ],
      "source": [
        "print(\"maximum length of Arabic Sentence \",max(lines['length_ara_sentence']))\n",
        "print(\"maximum length of English Sentence \",max(lines['length_eng_sentence']))"
      ]
    },
    {
      "cell_type": "code",
      "execution_count": null,
      "metadata": {
        "id": "Jsj0HdJy3B6p"
      },
      "outputs": [],
      "source": [
        "max_length_eng=max(lines['length_eng_sentence'])\n",
        "max_length_ara=max(lines['length_ara_sentence'])\n"
      ]
    },
    {
      "cell_type": "code",
      "execution_count": null,
      "metadata": {
        "colab": {
          "base_uri": "https://localhost:8080/"
        },
        "id": "3gCyQtQv3B6p",
        "outputId": "52a6e62c-974c-4a17-a06f-fac9bd0fc8f0"
      },
      "outputs": [
        {
          "data": {
            "text/plain": [
              "(25996, 57726)"
            ]
          },
          "execution_count": 27,
          "metadata": {},
          "output_type": "execute_result"
        }
      ],
      "source": [
        "input_words = sorted(list(all_english_words))\n",
        "target_words = sorted(list(all_arabic_words))\n",
        "num_encoder_tokens = len(all_english_words)\n",
        "num_decoder_tokens = len(all_arabic_words)\n",
        "num_encoder_tokens, num_decoder_tokens"
      ]
    },
    {
      "cell_type": "code",
      "execution_count": null,
      "metadata": {
        "id": "2wtQr8lU3B6p"
      },
      "outputs": [],
      "source": [
        "num_decoder_tokens += 1 #for zero padding"
      ]
    },
    {
      "cell_type": "code",
      "execution_count": null,
      "metadata": {
        "id": "Jnz_KajB3B6p"
      },
      "outputs": [],
      "source": [
        "input_token_index = dict([(word, i+1) for i, word in enumerate(input_words)])\n",
        "target_token_index = dict([(word, i+1) for i, word in enumerate(target_words)])"
      ]
    },
    {
      "cell_type": "code",
      "execution_count": null,
      "metadata": {
        "id": "DrC4KTMK3B6p"
      },
      "outputs": [],
      "source": [
        "reverse_input_char_index = dict((i, word) for word, i in input_token_index.items())\n",
        "reverse_target_char_index = dict((i, word) for word, i in target_token_index.items())"
      ]
    },
    {
      "cell_type": "code",
      "execution_count": null,
      "metadata": {
        "colab": {
          "base_uri": "https://localhost:8080/",
          "height": 363
        },
        "id": "Za5pgeAf3B6p",
        "outputId": "602e13c1-f33d-456e-e370-1f3d88e3f2ac"
      },
      "outputs": [
        {
          "data": {
            "text/html": [
              "<div>\n",
              "<style scoped>\n",
              "    .dataframe tbody tr th:only-of-type {\n",
              "        vertical-align: middle;\n",
              "    }\n",
              "\n",
              "    .dataframe tbody tr th {\n",
              "        vertical-align: top;\n",
              "    }\n",
              "\n",
              "    .dataframe thead th {\n",
              "        text-align: right;\n",
              "    }\n",
              "</style>\n",
              "<table border=\"1\" class=\"dataframe\">\n",
              "  <thead>\n",
              "    <tr style=\"text-align: right;\">\n",
              "      <th></th>\n",
              "      <th>English_sentence</th>\n",
              "      <th>Arabic_sentence</th>\n",
              "      <th>length_eng_sentence</th>\n",
              "      <th>length_ara_sentence</th>\n",
              "    </tr>\n",
              "  </thead>\n",
              "  <tbody>\n",
              "    <tr>\n",
              "      <th>19330</th>\n",
              "      <td>exchange student starved in egypt global voices</td>\n",
              "      <td>START_ مصر تجويع طالب تبادل طلابي الاصوات العا...</td>\n",
              "      <td>7</td>\n",
              "      <td>9</td>\n",
              "    </tr>\n",
              "    <tr>\n",
              "      <th>11167</th>\n",
              "      <td>iran we re going to the world cup videos globa...</td>\n",
              "      <td>START_ مقاطع فيديو من ايران ذاهبون الى كاس الع...</td>\n",
              "      <td>11</td>\n",
              "      <td>12</td>\n",
              "    </tr>\n",
              "    <tr>\n",
              "      <th>10437</th>\n",
              "      <td>there is indisputable proof that tom is the thief</td>\n",
              "      <td>START_ هناك دليل لا يقبل الجدل أن توم هو اللص ...</td>\n",
              "      <td>9</td>\n",
              "      <td>11</td>\n",
              "    </tr>\n",
              "    <tr>\n",
              "      <th>10713</th>\n",
              "      <td>tom came on monday and went back home the foll...</td>\n",
              "      <td>START_ توم أتىَ يوم الإثنين وعاد إلىَ البيت في...</td>\n",
              "      <td>11</td>\n",
              "      <td>12</td>\n",
              "    </tr>\n",
              "    <tr>\n",
              "      <th>15341</th>\n",
              "      <td>and adam makary exclaims</td>\n",
              "      <td>START_ ويوضح ادم مكاري _END</td>\n",
              "      <td>4</td>\n",
              "      <td>5</td>\n",
              "    </tr>\n",
              "    <tr>\n",
              "      <th>17363</th>\n",
              "      <td>for nostalgic readers the screenshot to the ri...</td>\n",
              "      <td>START_ ويمكن لقراينا الاعزاء الذين يتوقون للما...</td>\n",
              "      <td>18</td>\n",
              "      <td>19</td>\n",
              "    </tr>\n",
              "    <tr>\n",
              "      <th>14068</th>\n",
              "      <td>china social media crackdown arrested websites...</td>\n",
              "      <td>START_ حملة ضد مواقع التواصل الاجتماعي في الصي...</td>\n",
              "      <td>9</td>\n",
              "      <td>17</td>\n",
              "    </tr>\n",
              "    <tr>\n",
              "      <th>7303</th>\n",
              "      <td>which is heavier lead or gold</td>\n",
              "      <td>START_ أيهما أثقل، الذهب أم الرصاص؟ _END</td>\n",
              "      <td>6</td>\n",
              "      <td>7</td>\n",
              "    </tr>\n",
              "    <tr>\n",
              "      <th>20955</th>\n",
              "      <td>you can see a more detailed view of the result...</td>\n",
              "      <td>START_ يمكن ان تشاهد المزيد من التفاصيل هنا مل...</td>\n",
              "      <td>19</td>\n",
              "      <td>17</td>\n",
              "    </tr>\n",
              "    <tr>\n",
              "      <th>17221</th>\n",
              "      <td>lebanon facebook group in support of gaza boun...</td>\n",
              "      <td>START_ لبنان مجموعة فيسبوك لمساندة مريم المتجه...</td>\n",
              "      <td>11</td>\n",
              "      <td>12</td>\n",
              "    </tr>\n",
              "  </tbody>\n",
              "</table>\n",
              "</div>"
            ],
            "text/plain": [
              "                                        English_sentence   \n",
              "19330    exchange student starved in egypt global voices  \\\n",
              "11167  iran we re going to the world cup videos globa...   \n",
              "10437  there is indisputable proof that tom is the thief   \n",
              "10713  tom came on monday and went back home the foll...   \n",
              "15341                           and adam makary exclaims   \n",
              "17363  for nostalgic readers the screenshot to the ri...   \n",
              "14068  china social media crackdown arrested websites...   \n",
              "7303                       which is heavier lead or gold   \n",
              "20955  you can see a more detailed view of the result...   \n",
              "17221  lebanon facebook group in support of gaza boun...   \n",
              "\n",
              "                                         Arabic_sentence  length_eng_sentence   \n",
              "19330  START_ مصر تجويع طالب تبادل طلابي الاصوات العا...                    7  \\\n",
              "11167  START_ مقاطع فيديو من ايران ذاهبون الى كاس الع...                   11   \n",
              "10437  START_ هناك دليل لا يقبل الجدل أن توم هو اللص ...                    9   \n",
              "10713  START_ توم أتىَ يوم الإثنين وعاد إلىَ البيت في...                   11   \n",
              "15341                        START_ ويوضح ادم مكاري _END                    4   \n",
              "17363  START_ ويمكن لقراينا الاعزاء الذين يتوقون للما...                   18   \n",
              "14068  START_ حملة ضد مواقع التواصل الاجتماعي في الصي...                    9   \n",
              "7303            START_ أيهما أثقل، الذهب أم الرصاص؟ _END                    6   \n",
              "20955  START_ يمكن ان تشاهد المزيد من التفاصيل هنا مل...                   19   \n",
              "17221  START_ لبنان مجموعة فيسبوك لمساندة مريم المتجه...                   11   \n",
              "\n",
              "       length_ara_sentence  \n",
              "19330                    9  \n",
              "11167                   12  \n",
              "10437                   11  \n",
              "10713                   12  \n",
              "15341                    5  \n",
              "17363                   19  \n",
              "14068                   17  \n",
              "7303                     7  \n",
              "20955                   17  \n",
              "17221                   12  "
            ]
          },
          "execution_count": 31,
          "metadata": {},
          "output_type": "execute_result"
        }
      ],
      "source": [
        "lines = shuffle(lines)\n",
        "lines.head(10)"
      ]
    },
    {
      "cell_type": "code",
      "execution_count": null,
      "metadata": {
        "colab": {
          "base_uri": "https://localhost:8080/",
          "height": 424
        },
        "id": "bU3Nq0yC3B6p",
        "outputId": "b9084009-381c-4698-a95d-1455ae458007"
      },
      "outputs": [
        {
          "data": {
            "text/html": [
              "<div>\n",
              "<style scoped>\n",
              "    .dataframe tbody tr th:only-of-type {\n",
              "        vertical-align: middle;\n",
              "    }\n",
              "\n",
              "    .dataframe tbody tr th {\n",
              "        vertical-align: top;\n",
              "    }\n",
              "\n",
              "    .dataframe thead th {\n",
              "        text-align: right;\n",
              "    }\n",
              "</style>\n",
              "<table border=\"1\" class=\"dataframe\">\n",
              "  <thead>\n",
              "    <tr style=\"text-align: right;\">\n",
              "      <th></th>\n",
              "      <th>English_sentence</th>\n",
              "      <th>Arabic_sentence</th>\n",
              "      <th>length_eng_sentence</th>\n",
              "      <th>length_ara_sentence</th>\n",
              "    </tr>\n",
              "  </thead>\n",
              "  <tbody>\n",
              "    <tr>\n",
              "      <th>19330</th>\n",
              "      <td>exchange student starved in egypt global voices</td>\n",
              "      <td>START_ مصر تجويع طالب تبادل طلابي الاصوات العا...</td>\n",
              "      <td>7</td>\n",
              "      <td>9</td>\n",
              "    </tr>\n",
              "    <tr>\n",
              "      <th>11167</th>\n",
              "      <td>iran we re going to the world cup videos globa...</td>\n",
              "      <td>START_ مقاطع فيديو من ايران ذاهبون الى كاس الع...</td>\n",
              "      <td>11</td>\n",
              "      <td>12</td>\n",
              "    </tr>\n",
              "    <tr>\n",
              "      <th>10437</th>\n",
              "      <td>there is indisputable proof that tom is the thief</td>\n",
              "      <td>START_ هناك دليل لا يقبل الجدل أن توم هو اللص ...</td>\n",
              "      <td>9</td>\n",
              "      <td>11</td>\n",
              "    </tr>\n",
              "    <tr>\n",
              "      <th>10713</th>\n",
              "      <td>tom came on monday and went back home the foll...</td>\n",
              "      <td>START_ توم أتىَ يوم الإثنين وعاد إلىَ البيت في...</td>\n",
              "      <td>11</td>\n",
              "      <td>12</td>\n",
              "    </tr>\n",
              "    <tr>\n",
              "      <th>15341</th>\n",
              "      <td>and adam makary exclaims</td>\n",
              "      <td>START_ ويوضح ادم مكاري _END</td>\n",
              "      <td>4</td>\n",
              "      <td>5</td>\n",
              "    </tr>\n",
              "    <tr>\n",
              "      <th>...</th>\n",
              "      <td>...</td>\n",
              "      <td>...</td>\n",
              "      <td>...</td>\n",
              "      <td>...</td>\n",
              "    </tr>\n",
              "    <tr>\n",
              "      <th>17990</th>\n",
              "      <td>at group blog larvatus prodeo paul norton expl...</td>\n",
              "      <td>START_ وعلى مدونة الجماعية يوضح بول نورتن توجه...</td>\n",
              "      <td>14</td>\n",
              "      <td>13</td>\n",
              "    </tr>\n",
              "    <tr>\n",
              "      <th>14748</th>\n",
              "      <td>a fisherman s son tends to play with the tool ...</td>\n",
              "      <td>START_ ابن صياد سمك يلعب بمجسم لقارب _END</td>\n",
              "      <td>13</td>\n",
              "      <td>8</td>\n",
              "    </tr>\n",
              "    <tr>\n",
              "      <th>3430</th>\n",
              "      <td>do you really love me</td>\n",
              "      <td>START_ أتحبينني بحق؟ _END</td>\n",
              "      <td>5</td>\n",
              "      <td>4</td>\n",
              "    </tr>\n",
              "    <tr>\n",
              "      <th>4532</th>\n",
              "      <td>tom is clearly worn out</td>\n",
              "      <td>START_ توم مرهق بوضوح _END</td>\n",
              "      <td>5</td>\n",
              "      <td>5</td>\n",
              "    </tr>\n",
              "    <tr>\n",
              "      <th>6638</th>\n",
              "      <td>im just glad tom wasnt hurt</td>\n",
              "      <td>START_ سررت لأن توم لم يتأذى _END</td>\n",
              "      <td>6</td>\n",
              "      <td>7</td>\n",
              "    </tr>\n",
              "  </tbody>\n",
              "</table>\n",
              "<p>17561 rows × 4 columns</p>\n",
              "</div>"
            ],
            "text/plain": [
              "                                        English_sentence   \n",
              "19330    exchange student starved in egypt global voices  \\\n",
              "11167  iran we re going to the world cup videos globa...   \n",
              "10437  there is indisputable proof that tom is the thief   \n",
              "10713  tom came on monday and went back home the foll...   \n",
              "15341                           and adam makary exclaims   \n",
              "...                                                  ...   \n",
              "17990  at group blog larvatus prodeo paul norton expl...   \n",
              "14748  a fisherman s son tends to play with the tool ...   \n",
              "3430                               do you really love me   \n",
              "4532                             tom is clearly worn out   \n",
              "6638                         im just glad tom wasnt hurt   \n",
              "\n",
              "                                         Arabic_sentence  length_eng_sentence   \n",
              "19330  START_ مصر تجويع طالب تبادل طلابي الاصوات العا...                    7  \\\n",
              "11167  START_ مقاطع فيديو من ايران ذاهبون الى كاس الع...                   11   \n",
              "10437  START_ هناك دليل لا يقبل الجدل أن توم هو اللص ...                    9   \n",
              "10713  START_ توم أتىَ يوم الإثنين وعاد إلىَ البيت في...                   11   \n",
              "15341                        START_ ويوضح ادم مكاري _END                    4   \n",
              "...                                                  ...                  ...   \n",
              "17990  START_ وعلى مدونة الجماعية يوضح بول نورتن توجه...                   14   \n",
              "14748          START_ ابن صياد سمك يلعب بمجسم لقارب _END                   13   \n",
              "3430                           START_ أتحبينني بحق؟ _END                    5   \n",
              "4532                          START_ توم مرهق بوضوح _END                    5   \n",
              "6638                   START_ سررت لأن توم لم يتأذى _END                    6   \n",
              "\n",
              "       length_ara_sentence  \n",
              "19330                    9  \n",
              "11167                   12  \n",
              "10437                   11  \n",
              "10713                   12  \n",
              "15341                    5  \n",
              "...                    ...  \n",
              "17990                   13  \n",
              "14748                    8  \n",
              "3430                     4  \n",
              "4532                     5  \n",
              "6638                     7  \n",
              "\n",
              "[17561 rows x 4 columns]"
            ]
          },
          "execution_count": 32,
          "metadata": {},
          "output_type": "execute_result"
        }
      ],
      "source": [
        "lines[lines['length_eng_sentence']<=20]"
      ]
    },
    {
      "cell_type": "markdown",
      "metadata": {
        "id": "vGtVbt1y3B6p"
      },
      "source": [
        "### Split the data into train and test"
      ]
    },
    {
      "cell_type": "code",
      "execution_count": null,
      "metadata": {
        "colab": {
          "base_uri": "https://localhost:8080/"
        },
        "id": "urNFTjMX3B6p",
        "outputId": "4022c5e1-cdf0-4dfb-ed18-fd0e4bf8dd09"
      },
      "outputs": [
        {
          "data": {
            "text/plain": [
              "((14926,), (2635,))"
            ]
          },
          "execution_count": 33,
          "metadata": {},
          "output_type": "execute_result"
        }
      ],
      "source": [
        "X, y = lines['English_sentence'], lines['Arabic_sentence']\n",
        "X_train, X_test, y_train, y_test = train_test_split(X, y, test_size = 0.15,random_state=42)\n",
        "X_train.shape, X_test.shape"
      ]
    },
    {
      "cell_type": "markdown",
      "metadata": {
        "id": "n93MGI3Z3B6p"
      },
      "source": [
        "### Let us save this data"
      ]
    },
    {
      "cell_type": "code",
      "execution_count": null,
      "metadata": {
        "id": "L6PbPK0C3B6q"
      },
      "outputs": [],
      "source": [
        "X_train.to_pickle('X_train.pkl')\n",
        "X_test.to_pickle('X_test.pkl')\n"
      ]
    },
    {
      "cell_type": "code",
      "execution_count": null,
      "metadata": {
        "id": "9Q0erX473B6q"
      },
      "outputs": [],
      "source": [
        "def generate_batch(X = X_train, y = y_train, batch_size = batch_size):\n",
        "    ''' Generate a batch of data '''\n",
        "    while True:\n",
        "        for j in range(0, len(X), batch_size):\n",
        "            encoder_input_data = np.zeros((batch_size, max_length_eng),dtype='float32')\n",
        "            decoder_input_data = np.zeros((batch_size, max_length_ara),dtype='float32')\n",
        "            decoder_target_data = np.zeros((batch_size, max_length_ara, num_decoder_tokens),dtype='float32')\n",
        "            for i, (input_text, target_text) in enumerate(zip(X[j:j+batch_size], y[j:j+batch_size])):\n",
        "                for t, word in enumerate(input_text.split()):\n",
        "                    encoder_input_data[i, t] = input_token_index[word] # encoder input seq\n",
        "                for t, word in enumerate(target_text.split()):\n",
        "                    if t<len(target_text.split())-1:\n",
        "                        decoder_input_data[i, t] = target_token_index[word] # decoder input seq\n",
        "                    if t>0:\n",
        "                        # decoder target sequence (one hot encoded)\n",
        "                        # does not include the START_ token\n",
        "                        # Offset by one timestep\n",
        "                        decoder_target_data[i, t - 1, target_token_index[word]] = 1.\n",
        "            yield([encoder_input_data, decoder_input_data], decoder_target_data)"
      ]
    },
    {
      "cell_type": "markdown",
      "metadata": {
        "id": "F7dTgcbM3B6q"
      },
      "source": [
        "### Encoder-Decoder Architecture"
      ]
    },
    {
      "cell_type": "code",
      "execution_count": null,
      "metadata": {
        "id": "Jq5Paa9N3B6q"
      },
      "outputs": [],
      "source": [
        "latent_dim=300\n",
        "train_samples = len(X_train)\n",
        "val_samples = len(X_test)"
      ]
    },
    {
      "cell_type": "code",
      "execution_count": null,
      "metadata": {
        "id": "nOyi3ogv3B6r"
      },
      "outputs": [],
      "source": [
        "# Encoder\n",
        "encoder_inputs = Input(shape=(None,))\n",
        "enc_emb =  Embedding(num_encoder_tokens, latent_dim, mask_zero = True)(encoder_inputs)\n",
        "encoder_lstm = LSTM(latent_dim, return_state=True)\n",
        "encoder_outputs, state_h, state_c = encoder_lstm(enc_emb)\n",
        "# We discard `encoder_outputs` and only keep the states.\n",
        "encoder_states = [state_h, state_c]"
      ]
    },
    {
      "cell_type": "code",
      "execution_count": null,
      "metadata": {
        "id": "smyfsiO03B6r"
      },
      "outputs": [],
      "source": [
        "# Set up the decoder, using `encoder_states` as initial state.\n",
        "decoder_inputs = Input(shape=(None,))\n",
        "dec_emb_layer = Embedding(num_decoder_tokens, latent_dim, mask_zero = True)\n",
        "dec_emb = dec_emb_layer(decoder_inputs)\n",
        "# We set up our decoder to return full output sequences,\n",
        "# and to return internal states as well. We don't use the\n",
        "# return states in the training model, but we will use them in inference.\n",
        "decoder_lstm = LSTM(latent_dim, return_sequences=True, return_state=True)\n",
        "decoder_outputs, _, _ = decoder_lstm(dec_emb, initial_state=encoder_states)\n",
        "decoder_dense = Dense(num_decoder_tokens, activation='softmax')\n",
        "decoder_outputs = decoder_dense(decoder_outputs)\n",
        "\n",
        "# Define the model that will turn\n",
        "# `encoder_input_data` & `decoder_input_data` into `decoder_target_data`\n",
        "\n",
        "model = Model([encoder_inputs, decoder_inputs], decoder_outputs)\n"
      ]
    },
    {
      "cell_type": "code",
      "execution_count": null,
      "metadata": {
        "id": "fSUZ0zbS3B6s"
      },
      "outputs": [],
      "source": [
        "model.compile(optimizer='adam', loss='categorical_crossentropy',metrics=['accuracy'])"
      ]
    },
    {
      "cell_type": "code",
      "execution_count": null,
      "metadata": {
        "colab": {
          "base_uri": "https://localhost:8080/"
        },
        "id": "7gA4qSmE3B6s",
        "outputId": "c7e5b228-e529-47d7-aed2-4dbaee67c609"
      },
      "outputs": [
        {
          "name": "stdout",
          "output_type": "stream",
          "text": [
            "Model: \"model\"\n",
            "__________________________________________________________________________________________________\n",
            " Layer (type)                   Output Shape         Param #     Connected to                     \n",
            "==================================================================================================\n",
            " input_1 (InputLayer)           [(None, None)]       0           []                               \n",
            "                                                                                                  \n",
            " input_2 (InputLayer)           [(None, None)]       0           []                               \n",
            "                                                                                                  \n",
            " embedding (Embedding)          (None, None, 300)    7798800     ['input_1[0][0]']                \n",
            "                                                                                                  \n",
            " embedding_1 (Embedding)        (None, None, 300)    17318100    ['input_2[0][0]']                \n",
            "                                                                                                  \n",
            " lstm (LSTM)                    [(None, 300),        721200      ['embedding[0][0]']              \n",
            "                                 (None, 300),                                                     \n",
            "                                 (None, 300)]                                                     \n",
            "                                                                                                  \n",
            " lstm_1 (LSTM)                  [(None, None, 300),  721200      ['embedding_1[0][0]',            \n",
            "                                 (None, 300),                     'lstm[0][1]',                   \n",
            "                                 (None, 300)]                     'lstm[0][2]']                   \n",
            "                                                                                                  \n",
            " dense (Dense)                  (None, None, 57727)  17375827    ['lstm_1[0][0]']                 \n",
            "                                                                                                  \n",
            "==================================================================================================\n",
            "Total params: 43,935,127\n",
            "Trainable params: 43,935,127\n",
            "Non-trainable params: 0\n",
            "__________________________________________________________________________________________________\n"
          ]
        }
      ],
      "source": [
        "model.summary()"
      ]
    },
    {
      "cell_type": "code",
      "execution_count": null,
      "metadata": {
        "id": "PwdImQC93B6s"
      },
      "outputs": [],
      "source": [
        "early_stopping = EarlyStopping(monitor='val_accuracy', patience=5)\n",
        "checkpoint_path = 'best_model.h5'\n",
        "model_checkpoint = ModelCheckpoint(checkpoint_path, monitor='val_loss', save_best_only=True)"
      ]
    },
    {
      "cell_type": "code",
      "execution_count": null,
      "metadata": {
        "colab": {
          "base_uri": "https://localhost:8080/",
          "height": 415
        },
        "id": "2Ysmczf03B6s",
        "outputId": "e68c5099-a95e-411b-a909-daff74af1b22"
      },
      "outputs": [
        {
          "name": "stdout",
          "output_type": "stream",
          "text": [
            "Epoch 1/100\n",
            "233/233 [==============================] - 270s 1s/step - loss: 2.8597 - accuracy: 0.1524 - val_loss: 2.7147 - val_accuracy: 0.1734\n",
            "Epoch 2/100\n",
            "233/233 [==============================] - 271s 1s/step - loss: 2.4499 - accuracy: 0.1796 - val_loss: 2.6601 - val_accuracy: 0.1834\n",
            "Epoch 3/100\n",
            "233/233 [==============================] - 260s 1s/step - loss: 2.2840 - accuracy: 0.2031 - val_loss: 2.6250 - val_accuracy: 0.2086\n",
            "Epoch 4/100\n",
            "233/233 [==============================] - 259s 1s/step - loss: 2.1300 - accuracy: 0.2260 - val_loss: 2.6261 - val_accuracy: 0.2215\n",
            "Epoch 5/100\n",
            "233/233 [==============================] - 254s 1s/step - loss: 1.9924 - accuracy: 0.2450 - val_loss: 2.6314 - val_accuracy: 0.2328\n",
            "Epoch 6/100\n",
            "233/233 [==============================] - 256s 1s/step - loss: 1.8608 - accuracy: 0.2620 - val_loss: 2.6363 - val_accuracy: 0.2361\n",
            "Epoch 7/100\n",
            "233/233 [==============================] - 261s 1s/step - loss: 1.7371 - accuracy: 0.2793 - val_loss: 2.6612 - val_accuracy: 0.2429\n",
            "Epoch 8/100\n",
            "233/233 [==============================] - 256s 1s/step - loss: 1.6143 - accuracy: 0.2956 - val_loss: 2.6719 - val_accuracy: 0.2505\n",
            "Epoch 9/100\n",
            "233/233 [==============================] - 261s 1s/step - loss: 1.4991 - accuracy: 0.3147 - val_loss: 2.6875 - val_accuracy: 0.2542\n",
            "Epoch 10/100\n",
            "233/233 [==============================] - 261s 1s/step - loss: 1.3865 - accuracy: 0.3398 - val_loss: 2.7032 - val_accuracy: 0.2535\n",
            "Epoch 11/100\n",
            "233/233 [==============================] - 262s 1s/step - loss: 1.2760 - accuracy: 0.3772 - val_loss: 2.7333 - val_accuracy: 0.2634\n",
            "Epoch 12/100\n",
            "233/233 [==============================] - 265s 1s/step - loss: 1.1711 - accuracy: 0.4235 - val_loss: 2.7320 - val_accuracy: 0.2677\n",
            "Epoch 13/100\n",
            "233/233 [==============================] - 275s 1s/step - loss: 1.0681 - accuracy: 0.4718 - val_loss: 2.7512 - val_accuracy: 0.2686\n",
            "Epoch 14/100\n",
            "233/233 [==============================] - 262s 1s/step - loss: 0.9693 - accuracy: 0.5172 - val_loss: 2.7930 - val_accuracy: 0.2744\n",
            "Epoch 15/100\n",
            "233/233 [==============================] - 266s 1s/step - loss: 0.8813 - accuracy: 0.5577 - val_loss: 2.8016 - val_accuracy: 0.2717\n",
            "Epoch 16/100\n",
            "233/233 [==============================] - 263s 1s/step - loss: 0.8041 - accuracy: 0.5919 - val_loss: 2.8312 - val_accuracy: 0.2612\n",
            "Epoch 17/100\n",
            "233/233 [==============================] - 272s 1s/step - loss: 0.7320 - accuracy: 0.6264 - val_loss: 2.8316 - val_accuracy: 0.2715\n",
            "Epoch 18/100\n",
            "233/233 [==============================] - 271s 1s/step - loss: 0.6645 - accuracy: 0.6576 - val_loss: 2.8442 - val_accuracy: 0.2763\n",
            "Epoch 19/100\n",
            "233/233 [==============================] - 268s 1s/step - loss: 0.6022 - accuracy: 0.6885 - val_loss: 2.8710 - val_accuracy: 0.2799\n",
            "Epoch 20/100\n",
            "233/233 [==============================] - 265s 1s/step - loss: 0.5448 - accuracy: 0.7182 - val_loss: 2.8922 - val_accuracy: 0.2782\n",
            "Epoch 21/100\n",
            "233/233 [==============================] - 266s 1s/step - loss: 0.4908 - accuracy: 0.7464 - val_loss: 2.9131 - val_accuracy: 0.2755\n",
            "Epoch 22/100\n",
            "233/233 [==============================] - 255s 1s/step - loss: 0.4398 - accuracy: 0.7756 - val_loss: 2.9263 - val_accuracy: 0.2825\n",
            "Epoch 23/100\n",
            "233/233 [==============================] - 262s 1s/step - loss: 0.3955 - accuracy: 0.7984 - val_loss: 2.9538 - val_accuracy: 0.2857\n",
            "Epoch 24/100\n",
            "233/233 [==============================] - 266s 1s/step - loss: 0.3551 - accuracy: 0.8219 - val_loss: 2.9778 - val_accuracy: 0.2822\n",
            "Epoch 25/100\n",
            "233/233 [==============================] - 272s 1s/step - loss: 0.3184 - accuracy: 0.8419 - val_loss: 2.9925 - val_accuracy: 0.2810\n",
            "Epoch 26/100\n",
            "233/233 [==============================] - 270s 1s/step - loss: 0.2842 - accuracy: 0.8620 - val_loss: 3.0132 - val_accuracy: 0.2862\n",
            "Epoch 27/100\n",
            "233/233 [==============================] - 275s 1s/step - loss: 0.2536 - accuracy: 0.8786 - val_loss: 3.0370 - val_accuracy: 0.2868\n",
            "Epoch 28/100\n",
            "233/233 [==============================] - 290s 1s/step - loss: 0.2260 - accuracy: 0.8934 - val_loss: 3.0603 - val_accuracy: 0.2747\n",
            "Epoch 29/100\n",
            "233/233 [==============================] - 293s 1s/step - loss: 0.2010 - accuracy: 0.9078 - val_loss: 3.0760 - val_accuracy: 0.2796\n",
            "Epoch 30/100\n",
            "233/233 [==============================] - 281s 1s/step - loss: 0.1799 - accuracy: 0.9198 - val_loss: 3.0880 - val_accuracy: 0.2822\n",
            "Epoch 31/100\n",
            "233/233 [==============================] - 280s 1s/step - loss: 0.1589 - accuracy: 0.9315 - val_loss: 3.1046 - val_accuracy: 0.2844\n",
            "Epoch 32/100\n",
            "233/233 [==============================] - 285s 1s/step - loss: 0.1395 - accuracy: 0.9415 - val_loss: 3.1240 - val_accuracy: 0.2911\n",
            "Epoch 33/100\n",
            "233/233 [==============================] - 291s 1s/step - loss: 0.1216 - accuracy: 0.9510 - val_loss: 3.1386 - val_accuracy: 0.2874\n",
            "Epoch 34/100\n",
            "233/233 [==============================] - 302s 1s/step - loss: 0.1057 - accuracy: 0.9599 - val_loss: 3.1537 - val_accuracy: 0.2868\n",
            "Epoch 35/100\n",
            "233/233 [==============================] - 298s 1s/step - loss: 0.0928 - accuracy: 0.9663 - val_loss: 3.1767 - val_accuracy: 0.2851\n",
            "Epoch 36/100\n",
            "233/233 [==============================] - 282s 1s/step - loss: 0.0809 - accuracy: 0.9720 - val_loss: 3.2001 - val_accuracy: 0.2836\n",
            "Epoch 37/100\n",
            "233/233 [==============================] - 277s 1s/step - loss: 0.0701 - accuracy: 0.9765 - val_loss: 3.2136 - val_accuracy: 0.2856\n"
          ]
        }
      ],
      "source": [
        "with tf.device(\"/cpu:0\"):\n",
        "    model.fit(generate_batch(X_train, y_train, batch_size = batch_size),\n",
        "                    steps_per_epoch = train_samples//batch_size,\n",
        "                    epochs=epochs,\n",
        "                    validation_data = generate_batch(X_test, y_test, batch_size = batch_size),\n",
        "                    validation_steps = val_samples//batch_size,\n",
        "                    callbacks=[early_stopping, model_checkpoint])\n",
        "\n"
      ]
    },
    {
      "cell_type": "code",
      "execution_count": null,
      "metadata": {
        "id": "T-tS1AWN3B6s"
      },
      "outputs": [],
      "source": [
        "# Encode the input sequence to get the \"thought vectors\"\n",
        "encoder_model = Model(encoder_inputs, encoder_states)\n",
        "\n",
        "# Decoder setup\n",
        "# Below tensors will hold the states of the previous time step\n",
        "decoder_state_input_h = Input(shape=(latent_dim,))\n",
        "decoder_state_input_c = Input(shape=(latent_dim,))\n",
        "decoder_states_inputs = [decoder_state_input_h, decoder_state_input_c]\n",
        "\n",
        "dec_emb2= dec_emb_layer(decoder_inputs) # Get the embeddings of the decoder sequence\n",
        "\n",
        "# To predict the next word in the sequence, set the initial states to the states from the previous time step\n",
        "decoder_outputs2, state_h2, state_c2 = decoder_lstm(dec_emb2, initial_state=decoder_states_inputs)\n",
        "decoder_states2 = [state_h2, state_c2]\n",
        "decoder_outputs2 = decoder_dense(decoder_outputs2) # A dense softmax layer to generate prob dist. over the target vocabulary\n",
        "\n",
        "# Final decoder model\n",
        "decoder_model = Model([decoder_inputs] + decoder_states_inputs,[decoder_outputs2] + decoder_states2)\n"
      ]
    },
    {
      "cell_type": "code",
      "execution_count": null,
      "metadata": {
        "id": "wZb7Bi_5zdDL",
        "outputId": "b9ef4fc6-daf5-4ff6-92a5-eb6c1aa3a8f6"
      },
      "outputs": [
        {
          "name": "stdout",
          "output_type": "stream",
          "text": [
            "Model: \"model_2\"\n",
            "__________________________________________________________________________________________________\n",
            " Layer (type)                   Output Shape         Param #     Connected to                     \n",
            "==================================================================================================\n",
            " input_2 (InputLayer)           [(None, None)]       0           []                               \n",
            "                                                                                                  \n",
            " embedding_1 (Embedding)        (None, None, 300)    17318100    ['input_2[0][0]']                \n",
            "                                                                                                  \n",
            " input_3 (InputLayer)           [(None, 300)]        0           []                               \n",
            "                                                                                                  \n",
            " input_4 (InputLayer)           [(None, 300)]        0           []                               \n",
            "                                                                                                  \n",
            " lstm_1 (LSTM)                  [(None, None, 300),  721200      ['embedding_1[1][0]',            \n",
            "                                 (None, 300),                     'input_3[0][0]',                \n",
            "                                 (None, 300)]                     'input_4[0][0]']                \n",
            "                                                                                                  \n",
            " dense (Dense)                  (None, None, 57727)  17375827    ['lstm_1[1][0]']                 \n",
            "                                                                                                  \n",
            "==================================================================================================\n",
            "Total params: 35,415,127\n",
            "Trainable params: 35,415,127\n",
            "Non-trainable params: 0\n",
            "__________________________________________________________________________________________________\n"
          ]
        }
      ],
      "source": [
        "decoder_model.summary()"
      ]
    },
    {
      "cell_type": "code",
      "execution_count": null,
      "metadata": {
        "id": "ZPteYeuo3B6s"
      },
      "outputs": [],
      "source": [
        "def decode_sequence(input_seq):\n",
        "    # Encode the input as state vectors.\n",
        "    \n",
        "    states_value = encoder_model.predict(input_seq)\n",
        "    # Generate empty target sequence of length 1.\n",
        "    target_seq = np.zeros((1,1))\n",
        "    # Populate the first character of target sequence with the start character.\n",
        "    target_seq[0, 0] = target_token_index['START_']\n",
        "\n",
        "    # Sampling loop for a batch of sequences\n",
        "    # (to simplify, here we assume a batch of size 1).\n",
        "    stop_condition = False\n",
        "    decoded_sentence = ''\n",
        "    while not stop_condition:\n",
        "        output_tokens, h, c = decoder_model.predict([target_seq] + states_value,verbose=0)\n",
        "\n",
        "        # Sample a token\n",
        "        sampled_token_index = np.argmax(output_tokens[0, -1, :])\n",
        "        sampled_char = reverse_target_char_index[sampled_token_index]\n",
        "        decoded_sentence += ' '+sampled_char\n",
        "\n",
        "        # Exit condition: either hit max length\n",
        "        # or find stop character.\n",
        "        if (sampled_char == '_END' or\n",
        "           len(decoded_sentence) > 50):\n",
        "            stop_condition = True\n",
        "\n",
        "        # Update the target sequence (of length 1).\n",
        "        target_seq = np.zeros((1,1))\n",
        "        target_seq[0, 0] = sampled_token_index\n",
        "\n",
        "        # Update states\n",
        "        states_value = [h, c]\n",
        "\n",
        "    return decoded_sentence"
      ]
    },
    {
      "cell_type": "code",
      "execution_count": null,
      "metadata": {
        "id": "15r5y9to3B6s"
      },
      "outputs": [],
      "source": [
        "test_gen = generate_batch(X_test, y_test, batch_size = 1)\n",
        "k=-1"
      ]
    },
    {
      "cell_type": "code",
      "execution_count": null,
      "metadata": {
        "id": "M2aqhcwTZViP",
        "outputId": "5afcd17e-43ee-4573-e438-e3b44e0811b4"
      },
      "outputs": [
        {
          "name": "stdout",
          "output_type": "stream",
          "text": [
            "1/1 [==============================] - 0s 22ms/step\n",
            "Input English sentence: joy and sorrow\n",
            "Actual Arabic Translation:  الفرح والحزن \n",
            "Predicted ArabicTranslation:  نصحها الطبيب بأخذ إجازة \n",
            "######################################################################\n",
            "BLEU SCORE FOR 4-GRAMS: 0\n",
            "######################################################################\n",
            "BLEU SCORE FOR 1-GRAM: 0\n",
            "######################################################################\n",
            "1/1 [==============================] - 0s 21ms/step\n",
            "Input English sentence: i am to go there today\n",
            "Actual Arabic Translation:  سأذهب إلى هناك اليوم \n",
            "Predicted ArabicTranslation:  لاحظ يبقى جلب طفل على شرب آخر خمسين صغيرة \n",
            "######################################################################\n",
            "BLEU SCORE FOR 4-GRAMS: 0\n",
            "######################################################################\n",
            "BLEU SCORE FOR 1-GRAM: 0\n",
            "######################################################################\n",
            "1/1 [==============================] - 0s 23ms/step\n",
            "Input English sentence: feira de santana brazil paula goes\n",
            "Actual Arabic Translation:  فييرا دي سانتانا البرازيل بولا جويز \n",
            "Predicted ArabicTranslation:  المحطة لا يحب الفرنسية أكثر من المتجر \n",
            "######################################################################\n",
            "BLEU SCORE FOR 4-GRAMS: 0\n",
            "######################################################################\n",
            "BLEU SCORE FOR 1-GRAM: 0\n",
            "######################################################################\n",
            "1/1 [==============================] - 0s 19ms/step\n",
            "Input English sentence: dont worry about my dog he wont do you any harm\n",
            "Actual Arabic Translation:  لا تقلق بشأن كلبي هو لن يسبب لك أي ضرر \n",
            "Predicted ArabicTranslation:  كل ما تكون الة بيع تبيع العدسات اللاصقة في مالي ت\n",
            "######################################################################\n",
            "BLEU SCORE FOR 4-GRAMS: 0\n",
            "######################################################################\n",
            "BLEU SCORE FOR 1-GRAM: 0\n",
            "######################################################################\n",
            "1/1 [==============================] - 0s 19ms/step\n",
            "Input English sentence: local children ready to chat to paras leaving the helicopter landing site image by alex ford used with permission\n",
            "Actual Arabic Translation:  اطفال محليون يتحدثون مع جنود الصورة بواسطة اليكس فورد استخدمت بتصريح \n",
            "Predicted ArabicTranslation:  المدون انكليزي يكتب عن حالة اجود الحصول على مدونة كلوبالي\n",
            "######################################################################\n",
            "BLEU SCORE FOR 4-GRAMS: 0\n",
            "######################################################################\n",
            "BLEU SCORE FOR 1-GRAM: 0\n",
            "######################################################################\n",
            "1/1 [==============================] - 0s 19ms/step\n",
            "Input English sentence: photo gallery for the remangate campaign es through the paicma website\n",
            "Actual Arabic Translation:  صور عن حملة ارفعها من موقع \n",
            "Predicted ArabicTranslation:  ايران لم نعد اللاتينية تعتمد الاصوات العالمية \n",
            "######################################################################\n",
            "BLEU SCORE FOR 4-GRAMS: 0\n",
            "######################################################################\n",
            "BLEU SCORE FOR 1-GRAM: 0\n",
            "######################################################################\n",
            "1/1 [==============================] - 0s 22ms/step\n",
            "Input English sentence: he also explains the reason behind this in the faq page of the project\n",
            "Actual Arabic Translation:  كما ويقوم السيد مصطفى بشرح السبب وراء قيامه بذلك في صفحة الاسيلة المتكررة في موقع المشروع \n",
            "Predicted ArabicTranslation:  يقول المدون البحريني محمود اليوسف يقول خالد حمز\n",
            "######################################################################\n",
            "BLEU SCORE FOR 4-GRAMS: 0\n",
            "######################################################################\n",
            "BLEU SCORE FOR 1-GRAM: 0\n",
            "######################################################################\n",
            "1/1 [==============================] - 0s 22ms/step\n",
            "Input English sentence: im about ready\n",
            "Actual Arabic Translation:  أنا جاهز تقريباً \n",
            "Predicted ArabicTranslation:  أشتاق إليك \n",
            "######################################################################\n",
            "BLEU SCORE FOR 4-GRAMS: 0\n",
            "######################################################################\n",
            "BLEU SCORE FOR 1-GRAM: 0\n",
            "######################################################################\n",
            "1/1 [==============================] - 0s 19ms/step\n",
            "Input English sentence: leave me alone\n",
            "Actual Arabic Translation:  اتركني و شأني \n",
            "Predicted ArabicTranslation:  لم أكن لم يعجبك هذا؟ \n",
            "######################################################################\n",
            "BLEU SCORE FOR 4-GRAMS: 0\n",
            "######################################################################\n",
            "BLEU SCORE FOR 1-GRAM: 0\n",
            "######################################################################\n",
            "1/1 [==============================] - 0s 18ms/step\n",
            "Input English sentence: which bed do you want to use\n",
            "Actual Arabic Translation:  على أي سرير تريد أن تنام؟ \n",
            "Predicted ArabicTranslation:  كلما نخسر المزيد من قبل واحدة على تويتر \n",
            "######################################################################\n",
            "BLEU SCORE FOR 4-GRAMS: 0.0278\n",
            "######################################################################\n",
            "BLEU SCORE FOR 1-GRAM: 0.125\n",
            "######################################################################\n",
            "1/1 [==============================] - 0s 28ms/step\n",
            "Input English sentence: i was made to go there\n",
            "Actual Arabic Translation:  أُجبرتُ على الذهاب هناك \n",
            "Predicted ArabicTranslation:  المدون العربي من المدونات صورة من صفحة فيسبوك ال\n",
            "######################################################################\n",
            "BLEU SCORE FOR 4-GRAMS: 0\n",
            "######################################################################\n",
            "BLEU SCORE FOR 1-GRAM: 0\n",
            "######################################################################\n",
            "1/1 [==============================] - 0s 28ms/step\n",
            "Input English sentence: none of that actually happened\n",
            "Actual Arabic Translation:  لا شيء من هذا حدث \n",
            "Predicted ArabicTranslation:  ما الذي تعنيه هذا ما كنت أفعل؟ \n",
            "######################################################################\n",
            "BLEU SCORE FOR 4-GRAMS: 0.033\n",
            "######################################################################\n",
            "BLEU SCORE FOR 1-GRAM: 0.1429\n",
            "######################################################################\n",
            "1/1 [==============================] - 0s 22ms/step\n",
            "Input English sentence: in pittsburgh when nellie was twenty journalism was a man s thing\n",
            "Actual Arabic Translation:  في بيتسبرغ عندما كانت نيللي في العشرين من عمرها كانت الصحافة شيء للرجال \n",
            "Predicted ArabicTranslation:  و كتب وجهات نظر واحدة \n",
            "######################################################################\n",
            "BLEU SCORE FOR 4-GRAMS: 0\n",
            "######################################################################\n",
            "BLEU SCORE FOR 1-GRAM: 0\n",
            "######################################################################\n",
            "1/1 [==============================] - 0s 21ms/step\n",
            "Input English sentence: the reason is that i want to be an english teacher\n",
            "Actual Arabic Translation:  لأني أريد أن أصير معلم لغة إنجليزية \n",
            "Predicted ArabicTranslation:  لمزيد من الفعاليات المستقبلية في مجال حقوق الموا\n",
            "######################################################################\n",
            "BLEU SCORE FOR 4-GRAMS: 0\n",
            "######################################################################\n",
            "BLEU SCORE FOR 1-GRAM: 0\n",
            "######################################################################\n",
            "1/1 [==============================] - 0s 20ms/step\n",
            "Input English sentence: tom keeps a black cat\n",
            "Actual Arabic Translation:  توم يربّي قطة سوداء \n",
            "Predicted ArabicTranslation:  تبدو متعباً للغاية \n",
            "######################################################################\n",
            "BLEU SCORE FOR 4-GRAMS: 0\n",
            "######################################################################\n",
            "BLEU SCORE FOR 1-GRAM: 0\n",
            "######################################################################\n",
            "1/1 [==============================] - 0s 21ms/step\n",
            "Input English sentence: tom is a kind man\n",
            "Actual Arabic Translation:  توم رجل لطيف \n",
            "Predicted ArabicTranslation:  سأكون هنا طوال اليوم \n",
            "######################################################################\n",
            "BLEU SCORE FOR 4-GRAMS: 0\n",
            "######################################################################\n",
            "BLEU SCORE FOR 1-GRAM: 0\n",
            "######################################################################\n",
            "1/1 [==============================] - 0s 20ms/step\n",
            "Input English sentence: i live here\n",
            "Actual Arabic Translation:  أعيش هنا \n",
            "Predicted ArabicTranslation:  تويتر \n",
            "######################################################################\n",
            "BLEU SCORE FOR 4-GRAMS: 0\n",
            "######################################################################\n",
            "BLEU SCORE FOR 1-GRAM: 0\n",
            "######################################################################\n",
            "1/1 [==============================] - 0s 26ms/step\n",
            "Input English sentence: i have nothing to do with the matter\n",
            "Actual Arabic Translation:  ليس لدي أيُ شأنٍ في هذا الأمر \n",
            "Predicted ArabicTranslation:  دعونا نأخذ قسطاً من الراحة \n",
            "######################################################################\n",
            "BLEU SCORE FOR 4-GRAMS: 0\n",
            "######################################################################\n",
            "BLEU SCORE FOR 1-GRAM: 0\n",
            "######################################################################\n",
            "1/1 [==============================] - 0s 20ms/step\n",
            "Input English sentence: palestine journalist mohammed omer awarded then beaten global voices\n",
            "Actual Arabic Translation:  فلسطين الصحفي محمد عمر يكرم ثم يضرب الاصوات العالمية \n",
            "Predicted ArabicTranslation:  توم مدرس فرنسية \n",
            "######################################################################\n",
            "BLEU SCORE FOR 4-GRAMS: 0\n",
            "######################################################################\n",
            "BLEU SCORE FOR 1-GRAM: 0\n",
            "######################################################################\n",
            "1/1 [==============================] - 0s 23ms/step\n",
            "Input English sentence: women s rights campaigning info activism toolkit\n",
            "Actual Arabic Translation:  حقوق الحملات الانتخابية للمراة مجموعة ادوات لنشطاء المعلومات \n",
            "Predicted ArabicTranslation:  بالنسبة لي ذلك طبيب \n",
            "######################################################################\n",
            "BLEU SCORE FOR 4-GRAMS: 0\n",
            "######################################################################\n",
            "BLEU SCORE FOR 1-GRAM: 0\n",
            "######################################################################\n",
            "1/1 [==============================] - 0s 20ms/step\n",
            "Input English sentence: palestine qassams gas or hamas global voices\n",
            "Actual Arabic Translation:  فلسطين القسام الغاز الطبيعي ام حماس؟ الاصوات العالمية \n",
            "Predicted ArabicTranslation:  تقرير المواطن الرقمي في جنوب شرق اسيا من اجل افر\n",
            "######################################################################\n",
            "BLEU SCORE FOR 4-GRAMS: 0\n",
            "######################################################################\n",
            "BLEU SCORE FOR 1-GRAM: 0\n",
            "######################################################################\n",
            "1/1 [==============================] - 0s 25ms/step\n",
            "Input English sentence: your chair is identical to mine\n",
            "Actual Arabic Translation:  كرسيّك مثل كرسيي تمامًا \n",
            "Predicted ArabicTranslation:  صور للاجيين بر الصين الاصوات العالمية \n",
            "######################################################################\n",
            "BLEU SCORE FOR 4-GRAMS: 0\n",
            "######################################################################\n",
            "BLEU SCORE FOR 1-GRAM: 0\n",
            "######################################################################\n",
            "1/1 [==============================] - 0s 20ms/step\n",
            "Input English sentence: global voices special coverage on pakistan emergency global voices\n",
            "Actual Arabic Translation:  باكستان حالة الطواري صفحة التغطية الخاصة الاصوات العالمية \n",
            "Predicted ArabicTranslation:  اشترى توم مع سيارة جديدة \n",
            "######################################################################\n",
            "BLEU SCORE FOR 4-GRAMS: 0\n",
            "######################################################################\n",
            "BLEU SCORE FOR 1-GRAM: 0\n",
            "######################################################################\n",
            "1/1 [==============================] - 0s 20ms/step\n",
            "Input English sentence: what if i fail\n",
            "Actual Arabic Translation:  ماذا لو فشلت؟ \n",
            "Predicted ArabicTranslation:  إنه لا يدخن \n",
            "######################################################################\n",
            "BLEU SCORE FOR 4-GRAMS: 0\n",
            "######################################################################\n",
            "BLEU SCORE FOR 1-GRAM: 0\n",
            "######################################################################\n",
            "1/1 [==============================] - 0s 20ms/step\n",
            "Input English sentence: the educational system has failed us the grief and frustration of jordan s unemployed university graduates global voices\n",
            "Actual Arabic Translation:  احزان والام خريجي الجامعات الاردنية بسبب فشل النظام التعليمي الاصوات العالمية \n",
            "Predicted ArabicTranslation:  لدي أربعة أضعاف من وقت \n",
            "######################################################################\n",
            "BLEU SCORE FOR 4-GRAMS: 0\n",
            "######################################################################\n",
            "BLEU SCORE FOR 1-GRAM: 0\n",
            "######################################################################\n",
            "1/1 [==============================] - 0s 20ms/step\n",
            "Input English sentence: it took me two hours to memorize this sentence\n",
            "Actual Arabic Translation:  أمضيت ساعتين و أنا أحفظ هذه الجملة \n",
            "Predicted ArabicTranslation:  ليس عنده في السماء وقت \n",
            "######################################################################\n",
            "BLEU SCORE FOR 4-GRAMS: 0\n",
            "######################################################################\n",
            "BLEU SCORE FOR 1-GRAM: 0\n",
            "######################################################################\n",
            "1/1 [==============================] - 0s 25ms/step\n",
            "Input English sentence: when i got home i found i had lost my wallet\n",
            "Actual Arabic Translation:  عندما عدت إلى المنزل ، اكتشفت أني أضعت محفظتي \n",
            "Predicted ArabicTranslation:  عقدتُ العزم على أن أكون عالمًا \n",
            "######################################################################\n",
            "BLEU SCORE FOR 4-GRAMS: 0\n",
            "######################################################################\n",
            "BLEU SCORE FOR 1-GRAM: 0\n",
            "######################################################################\n",
            "1/1 [==============================] - 0s 19ms/step\n",
            "Input English sentence: i support my brothers who want to wear hijab in solidarity with ghannouchi who prefers the chador\n",
            "Actual Arabic Translation:  لم تكن ايناس بن حميد متفايلة في تعليقها عن الحدث \n",
            "Predicted ArabicTranslation:  كان عليك أن تكون في البيت \n",
            "######################################################################\n",
            "BLEU SCORE FOR 4-GRAMS: 0.021\n",
            "######################################################################\n",
            "BLEU SCORE FOR 1-GRAM: 0.0856\n",
            "######################################################################\n",
            "1/1 [==============================] - 0s 20ms/step\n",
            "Input English sentence: i know where you are\n",
            "Actual Arabic Translation:  أنا أعلم أين أنت \n",
            "Predicted ArabicTranslation:  إنها ماهرة جداً عن مكان ؟ \n",
            "######################################################################\n",
            "BLEU SCORE FOR 4-GRAMS: 0\n",
            "######################################################################\n",
            "BLEU SCORE FOR 1-GRAM: 0\n",
            "######################################################################\n",
            "1/1 [==============================] - 0s 23ms/step\n",
            "Input English sentence: the whole article has been shared many times in social networks kallol also shares bn his frustrations and anger\n",
            "Actual Arabic Translation:  تم نشر ومشاركة المقال كثيرا في مواقع التواصل الاجتماعي كما شاركنا كالول ايضا خيبته وغضبه \n",
            "Predicted ArabicTranslation:  علي أن أبقى في السرير \n",
            "######################################################################\n",
            "BLEU SCORE FOR 4-GRAMS: 0.0073\n",
            "######################################################################\n",
            "BLEU SCORE FOR 1-GRAM: 0.0271\n",
            "######################################################################\n",
            "1/1 [==============================] - 0s 21ms/step\n",
            "Input English sentence: everyone wants to meet you youre famous\n",
            "Actual Arabic Translation:  الكل يريد أن يتعرف عليك إنك مشهور \n",
            "Predicted ArabicTranslation:  ما الذي جعلك تغير رأيك؟ \n",
            "######################################################################\n",
            "BLEU SCORE FOR 4-GRAMS: 0\n",
            "######################################################################\n",
            "BLEU SCORE FOR 1-GRAM: 0\n",
            "######################################################################\n",
            "1/1 [==============================] - 0s 23ms/step\n",
            "Input English sentence: this apple is very red\n",
            "Actual Arabic Translation:  هذه التفاحة شديدة الحمرة \n",
            "Predicted ArabicTranslation:  ماتا توم وماري \n",
            "######################################################################\n",
            "BLEU SCORE FOR 4-GRAMS: 0\n",
            "######################################################################\n",
            "BLEU SCORE FOR 1-GRAM: 0\n",
            "######################################################################\n",
            "1/1 [==============================] - 0s 23ms/step\n",
            "Input English sentence: i cant wait to meet you\n",
            "Actual Arabic Translation:  لا استطيع الانتظار لمقابلتك \n",
            "Predicted ArabicTranslation:  ايران الهجرة والعايلة الايرانية الاصوات العالمية \n",
            "######################################################################\n",
            "BLEU SCORE FOR 4-GRAMS: 0\n",
            "######################################################################\n",
            "BLEU SCORE FOR 1-GRAM: 0\n",
            "######################################################################\n",
            "1/1 [==============================] - 0s 23ms/step\n",
            "Input English sentence: i work for an oil company\n",
            "Actual Arabic Translation:  أعمل لصالح شركة نفط \n",
            "Predicted ArabicTranslation:  سألته إلى أين سيذهب \n",
            "######################################################################\n",
            "BLEU SCORE FOR 4-GRAMS: 0\n",
            "######################################################################\n",
            "BLEU SCORE FOR 1-GRAM: 0\n",
            "######################################################################\n",
            "1/1 [==============================] - 0s 22ms/step\n",
            "Input English sentence: men who beat women aren t right in the head\n",
            "Actual Arabic Translation:  الرجال الذين يضربون النساء مختلون عقليا \n",
            "Predicted ArabicTranslation:  بورتو ريكو موقع الانترنت الاصوات العالمية \n",
            "######################################################################\n",
            "BLEU SCORE FOR 4-GRAMS: 0\n",
            "######################################################################\n",
            "BLEU SCORE FOR 1-GRAM: 0\n",
            "######################################################################\n",
            "1/1 [==============================] - 0s 19ms/step\n",
            "Input English sentence: an image can be worth more than words but in iran a cartoon can cost you jail and lashes\n",
            "Actual Arabic Translation:  الصورة اقدر من كلمة لكن في ايران الرسمة تكلفك السجن والجلد \n",
            "Predicted ArabicTranslation:  إنها تحب اليابان، أليس كذلك؟ \n",
            "######################################################################\n",
            "BLEU SCORE FOR 4-GRAMS: 0\n",
            "######################################################################\n",
            "BLEU SCORE FOR 1-GRAM: 0\n",
            "######################################################################\n",
            "1/1 [==============================] - 0s 25ms/step\n",
            "Input English sentence: sierra leone postcards from freetown then and now global voices\n",
            "Actual Arabic Translation:  سيراليون بطاقات بريدية من فريتاون قديما وحديثا الاصوات العالمية \n",
            "Predicted ArabicTranslation:  طفل تم التغريد على نهر سايجون الارشيف الرقمي لم\n",
            "######################################################################\n",
            "BLEU SCORE FOR 4-GRAMS: 0\n",
            "######################################################################\n",
            "BLEU SCORE FOR 1-GRAM: 0\n",
            "######################################################################\n",
            "1/1 [==============================] - 0s 19ms/step\n",
            "Input English sentence: please add my name to the list\n",
            "Actual Arabic Translation:  من فضلك أضف اسمي إلى اللائحة \n",
            "Predicted ArabicTranslation:  الاقتراح الذي تكون حالته معه لوحدها \n",
            "######################################################################\n",
            "BLEU SCORE FOR 4-GRAMS: 0\n",
            "######################################################################\n",
            "BLEU SCORE FOR 1-GRAM: 0\n",
            "######################################################################\n",
            "1/1 [==============================] - 0s 18ms/step\n",
            "Input English sentence: two bloggers have written about the foreign intervention and influence on the presidential election\n",
            "Actual Arabic Translation:  هنا مدونين كتبا عن التدخل الخارجي و التاثير في الانتخابات الرياسية \n",
            "Predicted ArabicTranslation:  اليمن رسالة مفتوحة للرييس اوباما الاصوات العالمية \n",
            "######################################################################\n",
            "BLEU SCORE FOR 4-GRAMS: 0\n",
            "######################################################################\n",
            "BLEU SCORE FOR 1-GRAM: 0\n",
            "######################################################################\n",
            "1/1 [==============================] - 0s 19ms/step\n",
            "Input English sentence: dont look for me\n",
            "Actual Arabic Translation:  لا تبحث عني \n",
            "Predicted ArabicTranslation:  مشميز من الانترنت حملة لحرية الصحافة الجديدة الا\n",
            "######################################################################\n",
            "BLEU SCORE FOR 4-GRAMS: 0\n",
            "######################################################################\n",
            "BLEU SCORE FOR 1-GRAM: 0\n",
            "######################################################################\n",
            "1/1 [==============================] - 0s 17ms/step\n",
            "Input English sentence: i didnt want to say anything in toms presence\n",
            "Actual Arabic Translation:  لم أُرِد أن أقول أي شيء في وجود توم \n",
            "Predicted ArabicTranslation:  صنعاء المساواة تصوير مشاكلنا الصورة مستخدمة باذن \n",
            "######################################################################\n",
            "BLEU SCORE FOR 4-GRAMS: 0\n",
            "######################################################################\n",
            "BLEU SCORE FOR 1-GRAM: 0\n",
            "######################################################################\n",
            "1/1 [==============================] - 0s 19ms/step\n",
            "Input English sentence: stop hitting your brother\n",
            "Actual Arabic Translation:  توقفي عن ضرب أخيكِ \n",
            "Predicted ArabicTranslation:  شاهد ادناه فيديو لرسومات مونا كارون او التدوين هو\n",
            "######################################################################\n",
            "BLEU SCORE FOR 4-GRAMS: 0\n",
            "######################################################################\n",
            "BLEU SCORE FOR 1-GRAM: 0\n",
            "######################################################################\n",
            "1/1 [==============================] - 0s 18ms/step\n",
            "Input English sentence: a bird in the hand is worth two in the bush\n",
            "Actual Arabic Translation:  عصفور في اليد خير من عشرة على الشجرة \n",
            "Predicted ArabicTranslation:  سأذهب إلى هناك بعض الحفلة \n",
            "######################################################################\n",
            "BLEU SCORE FOR 4-GRAMS: 0\n",
            "######################################################################\n",
            "BLEU SCORE FOR 1-GRAM: 0\n",
            "######################################################################\n",
            "1/1 [==============================] - 0s 18ms/step\n",
            "Input English sentence: you might have told me\n",
            "Actual Arabic Translation:  من الممكن أن تكون قد أخبرتني \n",
            "Predicted ArabicTranslation:  أنا أحبك \n",
            "######################################################################\n",
            "BLEU SCORE FOR 4-GRAMS: 0\n",
            "######################################################################\n",
            "BLEU SCORE FOR 1-GRAM: 0\n",
            "######################################################################\n",
            "1/1 [==============================] - 0s 22ms/step\n",
            "Input English sentence: donald tsang please die\n",
            "Actual Arabic Translation:  دونالد تسانج ارجوك مت \n",
            "Predicted ArabicTranslation:  كما تنشر الفيديو التالي هل تستمع؟ \n",
            "######################################################################\n",
            "BLEU SCORE FOR 4-GRAMS: 0\n",
            "######################################################################\n",
            "BLEU SCORE FOR 1-GRAM: 0\n",
            "######################################################################\n",
            "1/1 [==============================] - 0s 23ms/step\n",
            "Input English sentence: the new plan has been very successful\n",
            "Actual Arabic Translation:  الخِطة الجديدة كانت ناجِحة جداً \n",
            "Predicted ArabicTranslation:  كان متفوقا في منزل في العشرة \n",
            "######################################################################\n",
            "BLEU SCORE FOR 4-GRAMS: 0\n",
            "######################################################################\n",
            "BLEU SCORE FOR 1-GRAM: 0\n",
            "######################################################################\n",
            "1/1 [==============================] - 0s 22ms/step\n",
            "Input English sentence: there is nothing to be proud of\n",
            "Actual Arabic Translation:  ليس هناك ما نفخر به \n",
            "Predicted ArabicTranslation:  كادت أن تصدمها دراجة \n",
            "######################################################################\n",
            "BLEU SCORE FOR 4-GRAMS: 0\n",
            "######################################################################\n",
            "BLEU SCORE FOR 1-GRAM: 0\n",
            "######################################################################\n",
            "1/1 [==============================] - 0s 20ms/step\n",
            "Input English sentence: can your brother drive a car\n",
            "Actual Arabic Translation:  هل يستطيع أخوك أن يقود سيارة؟ \n",
            "Predicted ArabicTranslation:  لم يعد توم في المنزل عندما كان الناس أكثر من الم\n",
            "######################################################################\n",
            "BLEU SCORE FOR 4-GRAMS: 0\n",
            "######################################################################\n",
            "BLEU SCORE FOR 1-GRAM: 0\n",
            "######################################################################\n",
            "1/1 [==============================] - 0s 19ms/step\n",
            "Input English sentence: heres my card\n",
            "Actual Arabic Translation:  هذه بطاقتي \n",
            "Predicted ArabicTranslation:  مظاهرة اخرى على موقع تويتر وورد بريس وعناوينه الف\n",
            "######################################################################\n",
            "BLEU SCORE FOR 4-GRAMS: 0\n",
            "######################################################################\n",
            "BLEU SCORE FOR 1-GRAM: 0\n",
            "######################################################################\n",
            "1/1 [==============================] - 0s 19ms/step\n",
            "Input English sentence: i cant live without you\n",
            "Actual Arabic Translation:  لا يمكنني العيش من غيرك \n",
            "Predicted ArabicTranslation:  تركيا الافغان غاضبين من مسلسل تلفزيون ايراني الا\n",
            "######################################################################\n",
            "BLEU SCORE FOR 4-GRAMS: 0.0278\n",
            "######################################################################\n",
            "BLEU SCORE FOR 1-GRAM: 0.125\n",
            "######################################################################\n",
            "AVERAGE BLEU SCORE FOR 4-GRAMS:  0.0023\n",
            "----------------------------------------------------\n",
            "AVERAGE BLEU SCORE FOR 1-GRAM:  0.0101\n"
          ]
        }
      ],
      "source": [
        "scores4grams = 0.0\n",
        "scores1gram = 0.0\n",
        "for k in range(50):\n",
        "    (input_seq, actual_output), _ = next(test_gen)\n",
        "    decoded_sentence = decode_sequence(input_seq)\n",
        "    input_english = X_train[k:k+1].values[0]\n",
        "    actual_ara = y_train[k:k+1].values[0][6:-4]\n",
        "    pred = decoded_sentence[:-4]\n",
        "    print('Input English sentence:', input_english)\n",
        "    print('Actual Arabic Translation:', actual_ara)\n",
        "    print('Predicted ArabicTranslation:', pred)\n",
        "    print(\"######################################################################\")\n",
        "    pred = word_tokenize(pred)\n",
        "    actual = word_tokenize(actual_ara)\n",
        "    chencherry = SmoothingFunction()\n",
        "    score4 = round(sentence_bleu([actual], pred,smoothing_function=chencherry.method1),4)\n",
        "    print('BLEU SCORE FOR 4-GRAMS:', score4)\n",
        "    scores4grams+= score4\n",
        "    print(\"######################################################################\")\n",
        "    score1 = round(sentence_bleu([actual], pred,(1,0,0,0),smoothing_function=chencherry.method1),4)\n",
        "    print('BLEU SCORE FOR 1-GRAM:', score1)\n",
        "    scores1gram+= score1\n",
        "    print(\"######################################################################\")\n",
        "    \n",
        "avg_bleu4 = scores4grams / 50\n",
        "avg_bleu1 = scores1gram / 50\n",
        "print(\"AVERAGE BLEU SCORE FOR 4-GRAMS: \",round(avg_bleu4,4))\n",
        "print(\"----------------------------------------------------\")\n",
        "print(\"AVERAGE BLEU SCORE FOR 1-GRAM: \",round(avg_bleu1,4))"
      ]
    },
    {
      "cell_type": "code",
      "execution_count": null,
      "metadata": {
        "id": "XU-afPnQTEex"
      },
      "outputs": [],
      "source": []
    }
  ],
  "metadata": {
    "accelerator": "GPU",
    "colab": {
      "provenance": []
    },
    "gpuClass": "standard",
    "kernelspec": {
      "display_name": "Python 3",
      "name": "python3"
    },
    "language_info": {
      "codemirror_mode": {
        "name": "ipython",
        "version": 3
      },
      "file_extension": ".py",
      "mimetype": "text/x-python",
      "name": "python",
      "nbconvert_exporter": "python",
      "pygments_lexer": "ipython3",
      "version": "3.9.16"
    },
    "vscode": {
      "interpreter": {
        "hash": "beb9ec7cbb9eaf7588d480a67d8ee370dadbd88722f3687d9d06369669eab08c"
      }
    }
  },
  "nbformat": 4,
  "nbformat_minor": 0
}